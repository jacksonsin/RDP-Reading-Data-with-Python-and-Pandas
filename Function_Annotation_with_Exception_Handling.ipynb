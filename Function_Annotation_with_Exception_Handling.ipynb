{
  "nbformat": 4,
  "nbformat_minor": 0,
  "metadata": {
    "colab": {
      "name": "Function Annotation with Exception Handling.ipynb",
      "provenance": [],
      "authorship_tag": "ABX9TyN662LQoychqG76A/6FUpsm",
      "include_colab_link": true
    },
    "language_info": {
      "name": "python"
    },
    "kernelspec": {
      "name": "python3",
      "display_name": "Python 3"
    },
    "gpuClass": "standard"
  },
  "cells": [
    {
      "cell_type": "markdown",
      "metadata": {
        "id": "view-in-github",
        "colab_type": "text"
      },
      "source": [
        "<a href=\"https://colab.research.google.com/github/jacksonsin/RDP-Reading-Data-with-Python-and-Pandas/blob/master/Function_Annotation_with_Exception_Handling.ipynb\" target=\"_parent\"><img src=\"https://colab.research.google.com/assets/colab-badge.svg\" alt=\"Open In Colab\"/></a>"
      ]
    },
    {
      "cell_type": "markdown",
      "source": [
        "# Function Annotations in Python"
      ],
      "metadata": {
        "id": "ZGUSzcY1iZDG"
      }
    },
    {
      "cell_type": "code",
      "source": [
        "def func(a:{str}='A', b:{int}=0) -> dict:\n",
        "  return {a:b} "
      ],
      "metadata": {
        "id": "V5za4uFWnOi_"
      },
      "execution_count": 1,
      "outputs": []
    },
    {
      "cell_type": "markdown",
      "source": [
        "# Exception Handling"
      ],
      "metadata": {
        "id": "gwl-jNHosfjx"
      }
    },
    {
      "cell_type": "code",
      "source": [
        "# Case 1 - Passed\n",
        "try: \n",
        "  print(func())\n",
        "except Exception as error:\n",
        "  message = f\"\"\"You are supposed to pass a {func.__annotations__['a']} and a {func.__annotations__['b']} as arguments in the function. The function is supposed to return a {func.__annotations__['return']}.\"\"\"\n",
        "  print(message)"
      ],
      "metadata": {
        "colab": {
          "base_uri": "https://localhost:8080/"
        },
        "id": "GcYy56-KsFxx",
        "outputId": "6716dafc-c611-444c-cd6f-b8aeb5f91763"
      },
      "execution_count": 2,
      "outputs": [
        {
          "output_type": "stream",
          "name": "stdout",
          "text": [
            "{'A': 0}\n"
          ]
        }
      ]
    },
    {
      "cell_type": "code",
      "source": [
        "# Case 2 - Passed\n",
        "try: \n",
        "  print(func('A',2))\n",
        "except Exception as error:\n",
        "  message = f\"\"\"You are supposed to pass a {func.__annotations__['a']} and a {func.__annotations__['b']} as arguments in the function. The function is supposed to return a {func.__annotations__['return']}.\"\"\"\n",
        "  print(message)"
      ],
      "metadata": {
        "colab": {
          "base_uri": "https://localhost:8080/"
        },
        "id": "2_S1wWLJsLOF",
        "outputId": "3d156e3d-d1d2-44a0-eeb2-5d204970ea20"
      },
      "execution_count": 3,
      "outputs": [
        {
          "output_type": "stream",
          "name": "stdout",
          "text": [
            "{'A': 2}\n"
          ]
        }
      ]
    },
    {
      "cell_type": "code",
      "source": [
        "# Case 3 - Passed\n",
        "try: \n",
        "  print(func('2',2))\n",
        "except Exception as error:\n",
        "  message = f\"\"\"You are supposed to pass a {func.__annotations__['a']} and a {func.__annotations__['b']} as arguments in the function. The function is supposed to return a {func.__annotations__['return']}.\"\"\"\n",
        "  print(message)"
      ],
      "metadata": {
        "colab": {
          "base_uri": "https://localhost:8080/"
        },
        "id": "_AV0InmpkPP7",
        "outputId": "8fc9b8b7-8724-4d26-eb18-9fd8fc962f70"
      },
      "execution_count": 4,
      "outputs": [
        {
          "output_type": "stream",
          "name": "stdout",
          "text": [
            "{'2': 2}\n"
          ]
        }
      ]
    },
    {
      "cell_type": "code",
      "source": [
        "# Case 4 - Failed\n",
        "try: \n",
        "  print(func(2,'2','2'))\n",
        "except Exception as error:\n",
        "  message = f\"\"\"You are supposed to pass a {func.__annotations__['a']} and a {func.__annotations__['b']} as arguments in the function. The function is supposed to return a {func.__annotations__['return']}.\"\"\"\n",
        "  print(message)"
      ],
      "metadata": {
        "colab": {
          "base_uri": "https://localhost:8080/"
        },
        "id": "kOlh-3D8lxJ8",
        "outputId": "7251fd6f-e4f1-4784-d7c3-a65b9c1600d4"
      },
      "execution_count": 5,
      "outputs": [
        {
          "output_type": "stream",
          "name": "stdout",
          "text": [
            "You are supposed to pass a {<class 'str'>} and a {<class 'int'>} as arguments in the function. The function is supposed to return a <class 'dict'>.\n"
          ]
        }
      ]
    },
    {
      "cell_type": "markdown",
      "source": [
        "# Function Annotations in Python"
      ],
      "metadata": {
        "id": "vOxisPxzsn8t"
      }
    },
    {
      "cell_type": "code",
      "source": [
        "def func(a:int, b:int=1, c:str=\" \") -> float:\n",
        "  return a+b+c"
      ],
      "metadata": {
        "id": "JfYgURG_jQGR"
      },
      "execution_count": 6,
      "outputs": []
    },
    {
      "cell_type": "markdown",
      "source": [
        "# Exception Handling"
      ],
      "metadata": {
        "id": "jXJh6Bvysjs7"
      }
    },
    {
      "cell_type": "code",
      "source": [
        "# Case 1 - Passed\n",
        "try:\n",
        "  print(func(1,2,3))\n",
        "  pass\n",
        "except Exception as error:\n",
        "  message = f\"\"\"You are supposed to pass a {func.__annotations__['a']}, a {func.__annotations__['b']} and a {func.__annotations__['c']} as arguments in the function. The function is supposed to return a {func.__annotations__['return']}.\"\"\"\n",
        "  print(message)"
      ],
      "metadata": {
        "colab": {
          "base_uri": "https://localhost:8080/"
        },
        "id": "DQh9eaAUjasO",
        "outputId": "11ffa28a-88d3-4cbd-f65d-a8c5025d9073"
      },
      "execution_count": 7,
      "outputs": [
        {
          "output_type": "stream",
          "name": "stdout",
          "text": [
            "6\n"
          ]
        }
      ]
    },
    {
      "cell_type": "code",
      "source": [
        "# Case 2 - Failed\n",
        "try: \n",
        "  print(func('1',2,3))\n",
        "  pass\n",
        "except Exception as error:\n",
        "  message = f\"\"\"You are supposed to pass a {func.__annotations__['a']}, a {func.__annotations__['b']} and a {func.__annotations__['c']} as arguments in the function. The function is supposed to return a {func.__annotations__['return']}.\"\"\"\n",
        "  print(message)"
      ],
      "metadata": {
        "colab": {
          "base_uri": "https://localhost:8080/"
        },
        "id": "WVZuRlYroLeE",
        "outputId": "8b1e407f-9031-44ee-83a2-4895c687deee"
      },
      "execution_count": 8,
      "outputs": [
        {
          "output_type": "stream",
          "name": "stdout",
          "text": [
            "You are supposed to pass a <class 'int'>, a <class 'int'> and a <class 'str'> as arguments in the function. The function is supposed to return a <class 'float'>.\n"
          ]
        }
      ]
    }
  ]
}